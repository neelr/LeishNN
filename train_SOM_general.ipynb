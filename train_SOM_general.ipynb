{
 "cells": [
  {
   "cell_type": "code",
   "execution_count": 1,
   "metadata": {},
   "outputs": [],
   "source": [
    "import numpy as np\n",
    "import pandas as pd\n",
    "import matplotlib.pyplot as plt\n",
    "import matplotlib\n",
    "from sklearn.model_selection import train_test_split\n",
    "from sklearn.metrics import r2_score\n",
    "import pickle\n",
    "import gentrl\n",
    "import numpy as np\n",
    "\n",
    "import susi\n",
    "from susi.SOMPlots import plot_estimation_map, plot_som_histogram, plot_umatrix"
   ]
  },
  {
   "cell_type": "code",
   "execution_count": 42,
   "metadata": {},
   "outputs": [
    {
     "name": "stderr",
     "output_type": "stream",
     "text": [
      "C:\\Users\\mored\\Miniconda3\\envs\\leishnn\\lib\\site-packages\\IPython\\core\\interactiveshell.py:3146: DtypeWarning: Columns (1,4,5,14,17,18,19,38) have mixed types.Specify dtype option on import or set low_memory=False.\n",
      "  has_raised = await self.run_ast_nodes(code_ast.body, cell_name,\n"
     ]
    }
   ],
   "source": [
    "df = pd.read_csv(\"./train_ligase_2_filtered.csv\")\n",
    "#df = df[(df[\"Standard Units\"] == \"%\") | (df[\"Standard Units\"] == \"nM\")]\n",
    "#df = df[df[\"Standard Units\"] == \"%\"]"
   ]
  },
  {
   "cell_type": "code",
   "execution_count": 43,
   "metadata": {},
   "outputs": [],
   "source": [
    "smiles = []\n",
    "for i in df[\"Smiles\"]:\n",
    "    smiles.append(gentrl.tokenizer.encode([i])[0][0])"
   ]
  },
  {
   "cell_type": "code",
   "execution_count": 44,
   "metadata": {},
   "outputs": [],
   "source": [
    "smiles = np.array([i.numpy() for i in smiles])"
   ]
  },
  {
   "cell_type": "code",
   "execution_count": 45,
   "metadata": {},
   "outputs": [],
   "source": [
    "sort = df[df[\"Standard Units\"] == \"nM\"]"
   ]
  },
  {
   "cell_type": "code",
   "execution_count": 48,
   "metadata": {},
   "outputs": [],
   "source": [
    "values = list(df[\"Standard Value\"]/max(list(df[\"Standard Value\"])))"
   ]
  },
  {
   "cell_type": "code",
   "execution_count": 49,
   "metadata": {},
   "outputs": [],
   "source": [
    "biggest = max(list(sort[\"Standard Value\"]))\n",
    "\n",
    "for i, row in enumerate(df[\"Standard Value\"]):\n",
    "    if row < 0:\n",
    "        values[i] = -1\n",
    "    elif df[\"Standard Units\"][i] != \"nM\":\n",
    "        values[i] = -1\n",
    "    else:\n",
    "        try:\n",
    "            values[i]= -math.log(df[\"Standard Value\"][i]/biggest)\n",
    "        except:\n",
    "             values[i] = -1"
   ]
  },
  {
   "cell_type": "code",
   "execution_count": 25,
   "metadata": {},
   "outputs": [],
   "source": [
    "import math\n",
    "ic50 = []\n",
    "biggest = max(list(sort[\"Standard Value\"]))\n",
    "for i, row in enumerate(df[\"Standard Units\"]):\n",
    "    if row == \"%\":\n",
    "        ic50.append(0)\n",
    "    elif row == \"nM\":\n",
    "        try:\n",
    "            ic50.append(\n",
    "                -math.log(\n",
    "                    df[\"Standard Value\"][i]/biggest\n",
    "                )\n",
    "            )\n",
    "        except:\n",
    "             ic50.append(0)"
   ]
  },
  {
   "cell_type": "code",
   "execution_count": 50,
   "metadata": {},
   "outputs": [
    {
     "name": "stdout",
     "output_type": "stream",
     "text": [
      "(45644, 50) (5072, 50) (45644,) (5072,)\n"
     ]
    }
   ],
   "source": [
    "X_train, X_test, y_train, y_test = train_test_split(\n",
    "    np.array(smiles), np.array(values),\n",
    "    test_size=0.1, random_state=42, shuffle=True)\n",
    "print(X_train.shape, X_test.shape, y_train.shape, y_test.shape)"
   ]
  },
  {
   "cell_type": "code",
   "execution_count": 448,
   "metadata": {},
   "outputs": [],
   "source": [
    "som = susi.SOMRegressor(\n",
    "    n_rows=60,\n",
    "    n_columns=60,\n",
    "    n_iter_unsupervised=1000000,\n",
    "    n_iter_supervised=1000000,\n",
    "    missing_label_placeholder=-1,\n",
    "    #neighborhood_mode_unsupervised=\"root\",\n",
    "    #neighborhood_mode_supervised=\"root\",\n",
    "    learn_mode_unsupervised=\"min\",\n",
    "    learn_mode_supervised=\"min\",\n",
    "    learning_rate_start=0.5,\n",
    "    learning_rate_end=0.05,\n",
    "    random_state=None,\n",
    "    n_jobs=1)"
   ]
  },
  {
   "cell_type": "code",
   "execution_count": 449,
   "metadata": {},
   "outputs": [
    {
     "data": {
      "text/plain": [
       "SOMRegressor(missing_label_placeholder=-1, n_columns=60,\n",
       "             n_iter_supervised=1000000, n_iter_unsupervised=1000000, n_jobs=1,\n",
       "             n_rows=60)"
      ]
     },
     "execution_count": 449,
     "metadata": {},
     "output_type": "execute_result"
    }
   ],
   "source": [
    "som.fit(X_train, y_train)"
   ]
  },
  {
   "cell_type": "code",
   "execution_count": 60,
   "metadata": {},
   "outputs": [],
   "source": [
    "x_Test = []\n",
    "y_Test = []\n",
    "for i,v in enumerate(y_test):\n",
    "    if v > 0:\n",
    "        y_Test.append(v)\n",
    "        x_Test.append(X_test[i])"
   ]
  },
  {
   "cell_type": "code",
   "execution_count": 69,
   "metadata": {},
   "outputs": [],
   "source": [
    "x = []\n",
    "y = []\n",
    "for i,v in enumerate(values):\n",
    "    if v > 0:\n",
    "        y.append(v)\n",
    "        x.append(smiles[i])"
   ]
  },
  {
   "cell_type": "code",
   "execution_count": 70,
   "metadata": {},
   "outputs": [
    {
     "name": "stdout",
     "output_type": "stream",
     "text": [
      "Train: 55.0 %\n"
     ]
    }
   ],
   "source": [
    "#y_pred = som.predict(x_Test)\n",
    "y_pred_train = som.predict(x)\n",
    "\n",
    "print(\"Train: {0:.1f} %\".format(r2_score(y, y_pred_train)*100))\n",
    "#print(\"Test: {0:.1f} %\".format(r2_score(y_Test, y_pred)*100))"
   ]
  },
  {
   "cell_type": "code",
   "execution_count": 348,
   "metadata": {},
   "outputs": [
    {
     "data": {
      "text/plain": [
       "(0.056895430151244104, 0.09681841016882288)"
      ]
     },
     "execution_count": 348,
     "metadata": {},
     "output_type": "execute_result"
    }
   ],
   "source": [
    "y_train[31],y_pred_train[31]"
   ]
  },
  {
   "cell_type": "code",
   "execution_count": 456,
   "metadata": {},
   "outputs": [
    {
     "name": "stdout",
     "output_type": "stream",
     "text": [
      "OK\n"
     ]
    }
   ],
   "source": [
    "import requests\n",
    "\n",
    "url = \"https://notificationer.glitch.me/notify\"\n",
    "\n",
    "payload = \"{ \\\"id\\\":\\\"k1r9fznrir0wwxgf5j7nx\\\", \\\"text\\\":\\\"Project Ready!\\\" }\"\n",
    "headers = {\n",
    "    'Content-Type': \"application/json\",\n",
    "    'Authorization': \"Basic Og==\"\n",
    "    }\n",
    "\n",
    "response = requests.request(\"POST\", url, data=payload, headers=headers)\n",
    "\n",
    "print(response.text)"
   ]
  },
  {
   "cell_type": "code",
   "execution_count": 6,
   "metadata": {},
   "outputs": [
    {
     "data": {
      "image/png": "[encoded data removed]",
      "text/plain": [
       "<Figure size 504x360 with 2 Axes>"
      ]
     },
     "metadata": {
      "needs_background": "light"
     },
     "output_type": "display_data"
    }
   ],
   "source": [
    "estimation_map = np.squeeze(som.get_estimation_map())\n",
    "plot_estimation_map(\n",
    "    estimation_map, cbar_label=\"Log IC50\", cmap=\"viridis\")\n",
    "plt.title(\"Figure 3: General SOM Map\",  fontsize=18)\n",
    "plt.show()"
   ]
  },
  {
   "cell_type": "code",
   "execution_count": 457,
   "metadata": {},
   "outputs": [],
   "source": [
    "pickle.dump(som, open(\"general_leish_som_1M.p\", \"wb\"))"
   ]
  },
  {
   "cell_type": "code",
   "execution_count": 2,
   "metadata": {},
   "outputs": [],
   "source": [
    "som = pickle.load(open(\"general_leish_som_500K.p\", \"rb\"))"
   ]
  },
  {
   "cell_type": "code",
   "execution_count": 78,
   "metadata": {},
   "outputs": [
    {
     "data": {
      "text/plain": [
       "11.569821233577905"
      ]
     },
     "execution_count": 78,
     "metadata": {},
     "output_type": "execute_result"
    }
   ],
   "source": [
    "som.predict([list(x[0])])[0]"
   ]
  }
 ],
 "metadata": {
  "kernelspec": {
   "display_name": "Python 3",
   "language": "python",
   "name": "python3"
  },
  "language_info": {
   "codemirror_mode": {
    "name": "ipython",
    "version": 3
   },
   "file_extension": ".py",
   "mimetype": "text/x-python",
   "name": "python",
   "nbconvert_exporter": "python",
   "pygments_lexer": "ipython3",
   "version": "3.8.6"
  }
 },
 "nbformat": 4,
 "nbformat_minor": 4
}
