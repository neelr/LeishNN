{
 "cells": [
  {
   "cell_type": "code",
   "execution_count": 3,
   "metadata": {},
   "outputs": [],
   "source": [
    "import gentrl\n",
    "import torch\n",
    "import pandas as pd\n",
    "#torch.cuda.set_device(0)"
   ]
  },
  {
   "cell_type": "code",
   "execution_count": 4,
   "metadata": {},
   "outputs": [],
   "source": [
    "enc = gentrl.RNNEncoder(latent_size=50)\n",
    "dec = gentrl.DilConvDecoder(latent_input_size=50)\n",
    "model = gentrl.GENTRL(enc, dec, 50 * [('c', 20)], [('c', 20)], beta=0.001)\n",
    "#model.cuda();"
   ]
  },
  {
   "cell_type": "code",
   "execution_count": 15,
   "metadata": {},
   "outputs": [],
   "source": [
    " torch.cuda.empty_cache()"
   ]
  },
  {
   "cell_type": "code",
   "execution_count": 30,
   "metadata": {},
   "outputs": [
    {
     "name": "stderr",
     "output_type": "stream",
     "text": [
      "C:\\Users\\mored\\Miniconda3\\envs\\leishnn\\lib\\site-packages\\torch\\nn\\modules\\container.py:434: UserWarning: Setting attributes on ParameterList is not supported.\n",
      "  warnings.warn(\"Setting attributes on ParameterList is not supported.\")\n"
     ]
    }
   ],
   "source": [
    "# Load from past\n",
    "model.load('ligase_gentrl/')"
   ]
  },
  {
   "cell_type": "code",
   "execution_count": 6,
   "metadata": {},
   "outputs": [],
   "source": [
    "md = gentrl.MolecularDataset(sources=[\n",
    "    {'path':'train_moses_1.csv',\n",
    "     'smiles': 'SMILES',\n",
    "     'prob': 1,\n",
    "    }])\n",
    "\n",
    "from torch.utils.data import DataLoader\n",
    "train_loader = DataLoader(md, batch_size=50, shuffle=True, num_workers=1, drop_last=True)"
   ]
  },
  {
   "cell_type": "code",
   "execution_count": 32,
   "metadata": {},
   "outputs": [
    {
     "name": "stdout",
     "output_type": "stream",
     "text": [
      "Epoch 0 :\n",
      "!!!!!!!!!!!!!!!!!!!!!!!!!!\n",
      "Epoch 2 :\n",
      "!!!!!!!!!!!!!!!!!!!!!!!!!!\n",
      "Epoch 4 :\n",
      "!!!!!!!!!!!!!!!!!!!!!!!!!!\n",
      "Epoch 6 :\n",
      "!!!!!!!!!!!!!!!!!!!!!!!!"
     ]
    },
    {
     "name": "stderr",
     "output_type": "stream",
     "text": [
      "C:\\Users\\mored\\Miniconda3\\envs\\leishnn\\lib\\site-packages\\gentrl-0.1-py3.8.egg\\gentrl\\lp.py:108: UserWarning: indexing with dtype torch.uint8 is now deprecated, please use a dtype torch.bool instead. (Triggered internally at  ..\\aten\\src\\ATen/native/IndexingUtils.h:25.)\n",
      "  x[missed] = 0\n",
      "C:\\Users\\mored\\Miniconda3\\envs\\leishnn\\lib\\site-packages\\torch\\autograd\\__init__.py:130: UserWarning: indexing with dtype torch.uint8 is now deprecated, please use a dtype torch.bool instead. (Triggered internally at  ..\\aten\\src\\ATen/native/IndexingUtils.h:25.)\n",
      "  Variable._execution_engine.run_backward(\n"
     ]
    },
    {
     "name": "stdout",
     "output_type": "stream",
     "text": [
      "!!loss: -0.354;rec: -0.1458;kl: -177.4;log_p_y_by_z: 3.223;log_p_z_by_y: -292.3;\n",
      "Epoch 8 :\n",
      "!!!!!!!!!!!!!!!!!!!!!!!!!!loss: -0.517;rec: -0.07668;kl: -179.3;log_p_y_by_z: 4.144;log_p_z_by_y: -284.4;\n",
      "Epoch 10 :\n",
      "!!!!!!!!!!!!!!!!!!!!!!!!!!loss: -0.5826;rec: -0.03843;kl: -187.5;log_p_y_by_z: 4.335;log_p_z_by_y: -283.8;\n",
      "Epoch 12 :\n",
      "!!!!!!!!!!!!!!!!!!!!!!!!!!loss: -0.6141;rec: -0.02763;kl: -193.4;log_p_y_by_z: 4.483;log_p_z_by_y: -287.9;\n",
      "Epoch 14 :\n",
      "!!!!!!!!!!!!!!!!!!!!!!!!!!loss: -0.6364;rec: -0.02619;kl: -196.7;log_p_y_by_z: 4.659;log_p_z_by_y: -290.0;\n",
      "Epoch 16 :\n",
      "!!!!!!!!!!!!!!!!!!!!!!!!!!loss: -0.6526;rec: -0.02342;kl: -199.4;log_p_y_by_z: 4.766;log_p_z_by_y: -289.5;\n",
      "Epoch 18 :\n",
      "!!!!!!!!!!!!!!!!!!!!!!!!!!loss: -0.6658;rec: -0.02079;kl: -201.6;log_p_y_by_z: 4.85;log_p_z_by_y: -290.0;\n",
      "Epoch 20 :\n",
      "!!!!!!!!!!!!!!!!!!!!!!!!!!loss: -0.6734;rec: -0.01936;kl: -201.6;log_p_y_by_z: 4.912;log_p_z_by_y: -289.8;\n",
      "Epoch 22 :\n",
      "!!!!!!!!!!!!!!!!!!!!!!!!!!loss: -0.6776;rec: -0.01878;kl: -203.5;log_p_y_by_z: 4.929;log_p_z_by_y: -290.5;\n",
      "Epoch 24 :\n",
      "!!!!!!!!!!!!!!!!!!!!!!!!!!loss: -0.683;rec: -0.01858;kl: -204.1;log_p_y_by_z: 4.974;log_p_z_by_y: -289.8;\n",
      "Epoch 26 :\n",
      "!!!!!!!!!!!!!!!!!!!!!!!!!!loss: -0.6891;rec: -0.01788;kl: -206.9;log_p_y_by_z: 5.001;log_p_z_by_y: -289.8;\n",
      "Epoch 28 :\n",
      "!!!!!!!!!!!!!!!!!!!!!!!!!!loss: -0.6943;rec: -0.01633;kl: -208.4;log_p_y_by_z: 5.022;log_p_z_by_y: -290.7;\n",
      "Epoch 30 :\n",
      "!!!!!!!!!!!!!!!!!!!!!!!!!!loss: -0.6953;rec: -0.01691;kl: -209.2;log_p_y_by_z: 5.03;log_p_z_by_y: -290.3;\n",
      "Epoch 32 :\n",
      "!!!!!!!!!!!!!!!!!!!!!!!!!!loss: -0.6998;rec: -0.01476;kl: -209.3;log_p_y_by_z: 5.053;log_p_z_by_y: -290.2;\n",
      "Epoch 34 :\n",
      "!!!!!!!!!!!!!!!!!!!!!!!!!!loss: -0.7;rec: -0.01539;kl: -211.2;log_p_y_by_z: 5.043;log_p_z_by_y: -290.3;\n",
      "Epoch 36 :\n",
      "!!!!!!!!!!!!!!!!!!!!!!!!!!loss: -0.7008;rec: -0.01567;kl: -211.0;log_p_y_by_z: 5.054;log_p_z_by_y: -290.6;\n",
      "Epoch 38 :\n",
      "!!!!!!!!!!!!!!!!!!!!!!!!!!loss: -0.7057;rec: -0.01472;kl: -213.2;log_p_y_by_z: 5.072;log_p_z_by_y: -290.8;\n",
      "Epoch 40 :\n",
      "!!!!!!!!!!!!!!!!!!!!!!!!!!loss: -0.707;rec: -0.01375;kl: -213.7;log_p_y_by_z: 5.07;log_p_z_by_y: -290.9;\n",
      "Epoch 42 :\n",
      "!!!!!!!!!!!!!!!!!!!!!!!!!!loss: -0.7049;rec: -0.01486;kl: -212.1;log_p_y_by_z: 5.076;log_p_z_by_y: -288.9;\n",
      "Epoch 44 :\n",
      "!!!!!!!!!!!!!!!!!!!!!!!!!!loss: -0.7091;rec: -0.01341;kl: -212.4;log_p_y_by_z: 5.101;log_p_z_by_y: -289.7;\n",
      "Epoch 46 :\n",
      "!!!!!!!!!!!!!!!!!!!!!!!!!!loss: -0.7085;rec: -0.01436;kl: -215.0;log_p_y_by_z: 5.079;log_p_z_by_y: -290.4;\n",
      "Epoch 48 :\n",
      "!!!!!!!!!!!!!!!!!!!!!!!!!!loss: -0.7103;rec: -0.01303;kl: -215.0;log_p_y_by_z: 5.083;log_p_z_by_y: -290.0;\n",
      "Epoch 50 :\n",
      "!!!!!!!!!!!!!!!!!!!!!!!!!!loss: -0.7122;rec: -0.01428;kl: -215.9;log_p_y_by_z: 5.106;log_p_z_by_y: -290.0;\n",
      "Epoch 52 :\n",
      "!!!!!!!!!!!!!!!!!!!!!!!!!!loss: -0.7161;rec: -0.01217;kl: -218.5;log_p_y_by_z: 5.099;log_p_z_by_y: -291.0;\n",
      "Epoch 54 :\n",
      "!!!!!!!!!!!!!!!!!!!!!!!!!!loss: -0.7122;rec: -0.01542;kl: -216.8;log_p_y_by_z: 5.109;log_p_z_by_y: -290.4;\n",
      "Epoch 56 :\n",
      "!!!!!!!!!!!!!!!!!!!!!!!!!!loss: -0.7149;rec: -0.01362;kl: -217.8;log_p_y_by_z: 5.108;log_p_z_by_y: -290.4;\n",
      "Epoch 58 :\n",
      "!!!!!!!!!!!!!!!!!!!!!!!!!!loss: -0.7184;rec: -0.01329;kl: -219.0;log_p_y_by_z: 5.126;log_p_z_by_y: -290.7;\n",
      "Epoch 60 :\n",
      "!!!!!!!!!!!!!!!!!!!!!!!!!!loss: -0.7206;rec: -0.01213;kl: -219.5;log_p_y_by_z: 5.132;log_p_z_by_y: -290.8;\n",
      "Epoch 62 :\n",
      "!!!!!!!!!!!!!!!!!!!!!!!!!!loss: -0.7195;rec: -0.01307;kl: -219.6;log_p_y_by_z: 5.13;log_p_z_by_y: -290.8;\n",
      "Epoch 64 :\n",
      "!!!!!!!!!!!!!!!!!!!!!!!!!!loss: -0.7198;rec: -0.01314;kl: -218.9;log_p_y_by_z: 5.14;log_p_z_by_y: -290.1;\n",
      "Epoch 66 :\n",
      "!!!!!!!!!!!!!!!!!!!!!!!!!!loss: -0.7218;rec: -0.01348;kl: -220.8;log_p_y_by_z: 5.145;log_p_z_by_y: -290.4;\n",
      "Epoch 68 :\n",
      "!!!!!!!!!!!!!!!!!!!!!!!!!!loss: -0.7249;rec: -0.01181;kl: -221.8;log_p_y_by_z: 5.15;log_p_z_by_y: -291.6;\n",
      "Epoch 70 :\n",
      "!!!!!!!!!!!!!!!!!!!!!!!!!!loss: -0.7238;rec: -0.01258;kl: -221.9;log_p_y_by_z: 5.145;log_p_z_by_y: -291.0;\n",
      "Epoch 72 :\n",
      "!!!!!!!!!!!!!!!!!!!!!!!!!!loss: -0.7242;rec: -0.01244;kl: -221.9;log_p_y_by_z: 5.148;log_p_z_by_y: -291.5;\n",
      "Epoch 74 :\n",
      "!!!!!!!!!!!!!!!!!!!!!!!!!!loss: -0.7235;rec: -0.01303;kl: -221.7;log_p_y_by_z: 5.148;log_p_z_by_y: -290.4;\n",
      "Epoch 76 :\n",
      "!!!!!!!!!!!!!!!!!!!!!!!!!!loss: -0.7239;rec: -0.01264;kl: -221.6;log_p_y_by_z: 5.15;log_p_z_by_y: -290.3;\n",
      "Epoch 78 :\n",
      "!!!!!!!!!!!!!!!!!!!!!!!!!!loss: -0.7259;rec: -0.01183;kl: -221.3;log_p_y_by_z: 5.164;log_p_z_by_y: -289.0;\n",
      "Epoch 80 :\n",
      "!!!!!!!!!!!!!!!!!!!!!!!!!!loss: -0.699;rec: -0.01506;kl: -198.7;log_p_y_by_z: 5.153;log_p_z_by_y: -277.1;\n",
      "Epoch 82 :\n",
      "!!!!!!!!!!!!!!!!!!!!!!!!!!loss: -0.6988;rec: -0.01157;kl: -196.1;log_p_y_by_z: 5.143;log_p_z_by_y: -266.7;\n",
      "Epoch 84 :\n",
      "!!!!!!!!!!!!!!!!!!!!!!!!!!loss: -0.7114;rec: -0.009826;kl: -205.7;log_p_y_by_z: 5.155;log_p_z_by_y: -272.3;\n",
      "Epoch 86 :\n",
      "!!!!!!!!!!!!!!!!!!!!!!!!!!loss: -0.715;rec: -0.009667;kl: -210.0;log_p_y_by_z: 5.147;log_p_z_by_y: -277.5;\n",
      "Epoch 88 :\n",
      "!!!!!!!!!!!!!!!!!!!!!!!!!!loss: -0.7216;rec: -0.01033;kl: -216.0;log_p_y_by_z: 5.159;log_p_z_by_y: -281.5;\n",
      "Epoch 90 :\n",
      "!!!!!!!!!!!!!!!!!!!!!!!!!!loss: -0.7242;rec: -0.01105;kl: -218.7;log_p_y_by_z: 5.165;log_p_z_by_y: -284.7;\n",
      "Epoch 92 :\n",
      "!!!!!!!!!!!!!!!!!!!!!!!!!!loss: -0.7145;rec: -0.01234;kl: -210.5;log_p_y_by_z: 5.163;log_p_z_by_y: -280.7;\n",
      "Epoch 94 :\n",
      "!!!!!!!!!!!!!!!!!!!!!!!!!!loss: -0.7185;rec: -0.01146;kl: -212.8;log_p_y_by_z: 5.172;log_p_z_by_y: -278.5;\n",
      "Epoch 96 :\n",
      "!!!!!!!!!!!!!!!!!!!!!!!!!!loss: -0.7237;rec: -0.01111;kl: -218.0;log_p_y_by_z: 5.168;log_p_z_by_y: -282.8;\n",
      "Epoch 98 :\n",
      "!!!!!!!!!!!!!!!!!!!!!!!!!!loss: -0.7273;rec: -0.0104;kl: -219.1;log_p_y_by_z: 5.186;log_p_z_by_y: -283.8;\n",
      "Epoch 100 :\n",
      "!!!!!!!!!!!!!!!!!!!!!!!!!!loss: -0.7299;rec: -0.009994;kl: -221.4;log_p_y_by_z: 5.184;log_p_z_by_y: -286.1;\n",
      "Epoch 102 :\n",
      "!!!!!!!!!!!!!!!!!!!!!!!!!!loss: -0.7324;rec: -0.01059;kl: -224.1;log_p_y_by_z: 5.189;log_p_z_by_y: -288.2;\n",
      "Epoch 104 :\n",
      "!!!!!!!!!!!!!!!!!!!!!!!!!!loss: -0.7337;rec: -0.01043;kl: -224.8;log_p_y_by_z: 5.193;log_p_z_by_y: -289.2;\n",
      "Epoch 106 :\n",
      "!!!!!!!!!!!!!!!!!!!!!!!!!!loss: -0.7321;rec: -0.01169;kl: -225.4;log_p_y_by_z: 5.184;log_p_z_by_y: -290.2;\n",
      "Epoch 108 :\n",
      "!!!!!!!!!!!!!!!!!!!!!!!!!!loss: -0.7356;rec: -0.01087;kl: -226.0;log_p_y_by_z: 5.204;log_p_z_by_y: -290.8;\n",
      "Epoch 110 :\n",
      "!!!!!!!!!!!!!!!!!!!!!!!!!!loss: -0.733;rec: -0.01227;kl: -225.3;log_p_y_by_z:  5.2;log_p_z_by_y: -290.0;\n",
      "Epoch 112 :\n",
      "!!!!!!!!!!!!!!!!!!!!!!!!!!loss: -0.7366;rec: -0.01176;kl: -227.6;log_p_y_by_z: 5.208;log_p_z_by_y: -290.7;\n",
      "Epoch 114 :\n",
      "!!!!!!!!!!!!!!!!!!!!!!!!!!loss: -0.7368;rec: -0.01128;kl: -227.8;log_p_y_by_z: 5.203;log_p_z_by_y: -291.2;\n",
      "Epoch 116 :\n",
      "!!!!!!!!!!!!!!!!!!!!!!!!!!loss: -0.737;rec: -0.01024;kl: -227.3;log_p_y_by_z:  5.2;log_p_z_by_y: -291.6;\n",
      "Epoch 118 :\n",
      "!!!!!!!!!!!!!!!!!!!!!!!!!!loss: -0.7395;rec: -0.01056;kl: -229.4;log_p_y_by_z: 5.206;log_p_z_by_y: -292.4;\n",
      "Epoch 120 :\n",
      "!!!!!!!!!!!!!!!!!!!!!!!!!!loss: -0.7382;rec: -0.01066;kl: -228.6;log_p_y_by_z: 5.202;log_p_z_by_y: -292.3;\n",
      "Epoch 122 :\n",
      "!!!!!!!!!!!!!!!!!!!!!!!!!!loss: -0.7414;rec: -0.009985;kl: -229.6;log_p_y_by_z: 5.218;log_p_z_by_y: -291.8;\n",
      "Epoch 124 :\n",
      "!!!!!!!!!!!!!!!!!!!!!!!!!!loss: -0.7389;rec: -0.01259;kl: -229.4;log_p_y_by_z: 5.22;log_p_z_by_y: -292.0;\n",
      "Epoch 126 :\n",
      "!!!!!!!!!!!!!!!!!!!!!!!!!!loss: -0.7375;rec: -0.01125;kl: -228.3;log_p_y_by_z: 5.204;log_p_z_by_y: -291.6;\n",
      "Epoch 128 :\n",
      "!!!!!!!!!!!!!!!!!!!!!!!!!!loss: -0.7414;rec: -0.01082;kl: -230.8;log_p_y_by_z: 5.215;log_p_z_by_y: -292.1;\n",
      "Epoch 130 :\n",
      "!!!!!!!!!!!!!!!!!!!!!!!!!!loss: -0.7424;rec: -0.01017;kl: -230.3;log_p_y_by_z: 5.222;log_p_z_by_y: -292.4;\n",
      "Epoch 132 :\n",
      "!!!!!!!!!!!!!!!!!!!!!!!!!!loss: -0.7439;rec: -0.00958;kl: -230.8;log_p_y_by_z: 5.227;log_p_z_by_y: -292.1;\n",
      "Epoch 134 :\n",
      "!!!!!!!!!!!!!!!!!!!!!!!!!!loss: -0.7422;rec: -0.01177;kl: -231.3;log_p_y_by_z: 5.227;log_p_z_by_y: -293.0;\n",
      "Epoch 136 :\n",
      "!!!!!!!!!!!!!!!!!!!!!!!!!!loss: -0.744;rec: -0.01085;kl: -231.6;log_p_y_by_z: 5.233;log_p_z_by_y: -292.1;\n",
      "Epoch 138 :\n",
      "!!!!!!!!!!!!!!!!!!!!!!!!!!loss: -0.7466;rec: -0.009735;kl: -232.8;log_p_y_by_z: 5.235;log_p_z_by_y: -293.3;\n",
      "Epoch 140 :\n",
      "!!!!!!!!!!!!!!!!!!!!!!!!!!loss: -0.7423;rec: -0.01114;kl: -231.0;log_p_y_by_z: 5.224;log_p_z_by_y: -293.0;\n",
      "Epoch 142 :\n",
      "!!!!!!!!!!!!!!!!!!!!!!!!!!loss: -0.7428;rec: -0.01146;kl: -230.5;log_p_y_by_z: 5.238;log_p_z_by_y: -292.5;\n",
      "Epoch 144 :\n",
      "!!!!!!!!!!!!!!!!!!!!!!!!!!loss: -0.7451;rec: -0.01083;kl: -231.2;log_p_y_by_z: 5.247;log_p_z_by_y: -292.4;\n",
      "Epoch 146 :\n",
      "!!!!!!!!!!!!!!!!!!!!!!!!!!loss: -0.7467;rec: -0.01011;kl: -232.3;log_p_y_by_z: 5.245;log_p_z_by_y: -292.8;\n",
      "Epoch 148 :\n",
      "!!!!!!!!!!!!!!!!!!!!!!!!!!loss: -0.7456;rec: -0.01069;kl: -232.0;log_p_y_by_z: 5.243;log_p_z_by_y: -292.9;\n",
      "Epoch 150 :\n",
      "!!!!!!!!!!!!!!!!!!!!!!!!!!loss: -0.7449;rec: -0.01102;kl: -231.8;log_p_y_by_z: 5.241;log_p_z_by_y: -292.2;\n",
      "Epoch 152 :\n",
      "!!!!!!!!!!!!!!!!!!!!!!!!!!loss: -0.7434;rec: -0.01115;kl: -230.6;log_p_y_by_z: 5.24;log_p_z_by_y: -292.6;\n",
      "Epoch 154 :\n",
      "!!!!!!!!!!!!!!!!!!!!!!!!!!loss: -0.7458;rec: -0.01009;kl: -231.5;log_p_y_by_z: 5.243;log_p_z_by_y: -292.5;\n",
      "Epoch 156 :\n",
      "!!!!!!!!!!!!!!!!!!!!!!!!!!loss: -0.7449;rec: -0.01193;kl: -231.5;log_p_y_by_z: 5.253;log_p_z_by_y: -292.1;\n",
      "Epoch 158 :\n",
      "!!!!!!!!!!!!!!!!!!!!!!!!!!loss: -0.7454;rec: -0.01134;kl: -231.7;log_p_y_by_z: 5.25;log_p_z_by_y: -291.7;\n",
      "Epoch 160 :\n",
      "!!!!!!!!!!!!!!!!!!!!!!!!!!loss: -0.7476;rec: -0.01047;kl: -232.3;log_p_y_by_z: 5.258;log_p_z_by_y: -291.9;\n",
      "Epoch 162 :\n",
      "!!!!!!!!!!!!!!!!!!!!!!!!!!loss: -0.7489;rec: -0.01006;kl: -234.4;log_p_y_by_z: 5.246;log_p_z_by_y: -293.0;\n",
      "Epoch 164 :\n",
      "!!!!!!!!!!!!!!!!!!!!!!!!!!loss: -0.7496;rec: -0.009643;kl: -233.3;log_p_y_by_z: 5.259;log_p_z_by_y: -293.7;\n",
      "Epoch 166 :\n",
      "!!!!!!!!!!!!!!!!!!!!!!!!!!loss: -0.7493;rec: -0.01041;kl: -234.4;log_p_y_by_z: 5.254;log_p_z_by_y: -293.5;\n",
      "Epoch 168 :\n",
      "!!!!!!!!!!!!!!!!!!!!!!!!!!loss: -0.7505;rec: -0.009865;kl: -234.5;log_p_y_by_z: 5.258;log_p_z_by_y: -293.9;\n",
      "Epoch 170 :\n",
      "!!!!!!!!!!!!!!!!!!!!!!!!!!loss: -0.7494;rec: -0.01017;kl: -232.6;log_p_y_by_z: 5.269;log_p_z_by_y: -292.9;\n",
      "Epoch 172 :\n",
      "!!!!!!!!!!!!!!!!!!!!!!!!!!loss: -0.751;rec: -0.01018;kl: -235.0;log_p_y_by_z: 5.262;log_p_z_by_y: -293.8;\n",
      "Epoch 174 :\n",
      "!!!!!!!!!!!!!!!!!!!!!!!!!!loss: -0.7476;rec: -0.01095;kl: -232.1;log_p_y_by_z: 5.264;log_p_z_by_y: -292.0;\n",
      "Epoch 176 :\n",
      "!!!!!!!!!!!!!!!!!!!!!!!!!!loss: -0.7389;rec: -0.01231;kl: -224.5;log_p_y_by_z: 5.268;log_p_z_by_y: -286.4;\n",
      "Epoch 178 :\n",
      "!!!!!!!!!!!!!!!!!!!!!!!!!!loss: -0.7162;rec: -0.01368;kl: -203.0;log_p_y_by_z: 5.269;log_p_z_by_y: -274.5;\n",
      "Epoch 180 :\n",
      "!!!!!!!!!!!!!!!!!!!!!!!!!!loss: -0.7237;rec: -0.01026;kl: -207.6;log_p_y_by_z: 5.264;log_p_z_by_y: -270.7;\n",
      "Epoch 182 :\n",
      "!!!!!!!!!!!!!!!!!!!!!!!!!!loss: -0.7315;rec: -0.009285;kl: -213.0;log_p_y_by_z: 5.278;log_p_z_by_y: -272.6;\n",
      "Epoch 184 :\n",
      "!!!!!!!!!!!!!!!!!!!!!!!!!!loss: -0.7367;rec: -0.009605;kl: -219.4;log_p_y_by_z: 5.268;log_p_z_by_y: -278.1;\n",
      "Epoch 186 :\n",
      "!!!!!!!!!!!!!!!!!!!!!!!!!!loss: -0.7418;rec: -0.008667;kl: -222.8;log_p_y_by_z: 5.277;log_p_z_by_y: -280.8;\n",
      "Epoch 188 :\n",
      "!!!!!!!!!!!!!!!!!!!!!!!!!!loss: -0.744;rec: -0.01012;kl: -225.6;log_p_y_by_z: 5.285;log_p_z_by_y: -284.3;\n",
      "Epoch 190 :\n",
      "!!!!!!!!!!!!!!!!!!!!!!!!!!loss: -0.7495;rec: -0.009455;kl: -230.2;log_p_y_by_z: 5.287;log_p_z_by_y: -286.6;\n",
      "Epoch 192 :\n",
      "!!!!!!!!!!!!!!!!!!!!!!!!!!loss: -0.7501;rec: -0.009358;kl: -230.4;log_p_y_by_z: 5.291;log_p_z_by_y: -288.2;\n",
      "Epoch 194 :\n",
      "!!!!!!!!!!!!!!!!!!!!!!!!!!loss: -0.7526;rec: -0.00928;kl: -232.7;log_p_y_by_z: 5.291;log_p_z_by_y: -289.8;\n",
      "Epoch 196 :\n",
      "!!!!!!!!!!!!!!!!!!!!!!!!!!loss: -0.7561;rec: -0.008601;kl: -235.5;log_p_y_by_z: 5.292;log_p_z_by_y: -290.8;\n",
      "Epoch 198 :\n",
      "!!!!!!!!!!!!!!!!!!!!!!!!!!loss: -0.7531;rec: -0.01122;kl: -234.6;log_p_y_by_z: 5.297;log_p_z_by_y: -291.5;\n"
     ]
    },
    {
     "data": {
      "text/plain": [
       "<gentrl.gentrl.TrainStats at 0x1f8d96f8730>"
      ]
     },
     "execution_count": 32,
     "metadata": {},
     "output_type": "execute_result"
    }
   ],
   "source": [
    "model.train_as_vaelp(train_loader, lr=1e-4,num_epochs=200)"
   ]
  },
  {
   "cell_type": "code",
   "execution_count": 7,
   "metadata": {},
   "outputs": [
    {
     "name": "stdout",
     "output_type": "stream",
     "text": [
      "Epoch 0 :\n",
      "!!!!!!!!!!!!!!!!!!!!!!!!!!!!!!!!!!!!!!!!!!!!!!!!!!!!!!!!!!!!!!!!!!!!!!!!!!!!!!!!!!!!!!!!!!!!!!!!!!!!!"
     ]
    },
    {
     "name": "stderr",
     "output_type": "stream",
     "text": [
      "C:\\Users\\mored\\Miniconda3\\envs\\leishnn\\lib\\site-packages\\sklearn\\mixture\\_base.py:147: ConvergenceWarning: Number of distinct clusters (1) found smaller than n_clusters (20). Possibly due to duplicate points in X.\n",
      "  label = cluster.KMeans(n_clusters=self.n_components, n_init=1,\n"
     ]
    },
    {
     "name": "stdout",
     "output_type": "stream",
     "text": [
      "!"
     ]
    },
    {
     "name": "stderr",
     "output_type": "stream",
     "text": [
      "C:\\Users\\mored\\Miniconda3\\envs\\leishnn\\lib\\site-packages\\gentrl-0.1-py3.8.egg\\gentrl\\lp.py:108: UserWarning: indexing with dtype torch.uint8 is now deprecated, please use a dtype torch.bool instead. (Triggered internally at  ..\\aten\\src\\ATen/native/IndexingUtils.h:25.)\n",
      "C:\\Users\\mored\\Miniconda3\\envs\\leishnn\\lib\\site-packages\\torch\\autograd\\__init__.py:130: UserWarning: indexing with dtype torch.uint8 is now deprecated, please use a dtype torch.bool instead. (Triggered internally at  ..\\aten\\src\\ATen/native/IndexingUtils.h:25.)\n",
      "  Variable._execution_engine.run_backward(\n"
     ]
    },
    {
     "name": "stdout",
     "output_type": "stream",
     "text": [
      "!!!!!!!!!!!!!!!!!!!!!!!!!!!!!!!!!!!!!!!!!!!!!!!!loss: 1.81;rec: -2.482;kl: -72.62;log_p_y_by_z: 5.991;log_p_z_by_y: -70.72;\n",
      "!!!!!!!!!!!!!!!!!!!!!!!!!!!!!!!!!!!!!!!!!!!!!!!!!!loss: 1.053;rec: -1.709;kl: -56.05;log_p_y_by_z: 5.997;log_p_z_by_y: -53.92;\n",
      "!!!!!!!!!!!!!!!!!!!!!!!!!!!!!!!!!!!!!!!!!!!!!!!!!!loss: 0.778;rec: -1.422;kl: -43.32;log_p_y_by_z: 6.006;log_p_z_by_y: -42.41;\n",
      "!!!!!!!!!!!!!!!!!!!!!!!!!!!!!!!!!!!!!!!!!!!!!!!!!!loss: 0.6404;rec: -1.281;kl: -39.28;log_p_y_by_z: 6.014;log_p_z_by_y: -40.74;\n",
      "!!!!!!!!!!!!!!!!!!!!!!!!!!!!!!!!!!!!!!!!!!!!!!!!!!loss: 0.5455;rec: -1.186;kl: -38.57;log_p_y_by_z: 6.023;log_p_z_by_y: -41.78;\n",
      "!!!!!!!!!!!!!!!!!!!!!!!!!!!!!!!!!!!!!!!!!!!!!!!!!!loss: 0.4731;rec: -1.113;kl: -36.47;log_p_y_by_z: 6.031;log_p_z_by_y: -43.62;\n",
      "!!!!!!!!!!!!!!!!!!!!!!!!!!!!!!!!!!!!!!!!!!!!!!!!!!loss: 0.4216;rec: -1.059;kl: -33.91;log_p_y_by_z: 6.038;log_p_z_by_y: -45.07;\n",
      "!!!!!!!!!!!!!!!!!!!!!!!!!!!!!!!!!!!!!!!!!!!!!!!!!!loss: 0.3848;rec: -1.022;kl: -33.2;log_p_y_by_z: 6.045;log_p_z_by_y: -45.64;\n",
      "!!!!!!!!!!!!!!!!!!!!!!!!!!!!!!!!!!!!!!!!!!!!!!!!!!loss: 0.3561;rec: -0.9936;kl: -32.37;log_p_y_by_z: 6.051;log_p_z_by_y: -45.93;\n",
      "!!!!!!!!!!!!!!!!!!!!!!!!!!!!!!!!!!!!!!!!!!!!!!!!!!loss: 0.3189;rec: -0.9562;kl: -31.64;log_p_y_by_z: 6.057;log_p_z_by_y: -45.91;\n",
      "!!!!!!!!!!!!!!!!!!!!!!!!!!!!!!!!!!!!!!!!!!!!!!!!!!loss: 0.298;rec: -0.9347;kl: -30.49;log_p_y_by_z: 6.063;log_p_z_by_y: -46.46;\n",
      "!!!!!!!!!!!!!!!!!!!!!!!!!!!!!!!!!!!!!!!!!!!!!!!!!!loss: 0.2716;rec: -0.9078;kl: -29.45;log_p_y_by_z: 6.068;log_p_z_by_y: -47.07;\n",
      "!!!!!!!!!!!!!!!!!!!!!!!!!!!!!!!!!!!!!!!!!!!!!!!!!!loss: 0.2492;rec: -0.8848;kl: -28.25;log_p_y_by_z: 6.074;log_p_z_by_y: -47.45;\n",
      "!!!!!!!!!!!!!!!!!!!!!!!!!!!!!!!!!!!!!!!!!!!!!!!!!!loss: 0.2389;rec: -0.8746;kl: -27.77;log_p_y_by_z: 6.08;log_p_z_by_y: -47.98;\n",
      "!!!!!!!!!!!!!!!!!!!!!!!!!!!!!!!!!!!!!!!!!!!!!!!!!!loss: 0.2174;rec: -0.8524;kl: -26.57;log_p_y_by_z: 6.085;log_p_z_by_y: -47.61;\n",
      "!!!!!!!!!!!!!!!!!!!!!!!!!!!!!!!!!!!!!!!!!!!!!!!!!!loss: 0.2008;rec: -0.8353;kl: -25.46;log_p_y_by_z: 6.09;log_p_z_by_y: -47.94;\n",
      "!!!!!!!!!!!!!!!!!!!!!!!!!!!!!!!!!!!!!!!!!!!!!!!!!!loss: 0.1909;rec: -0.8244;kl: -23.98;log_p_y_by_z: 6.096;log_p_z_by_y: -47.78;\n",
      "!!!!!!!!!!!!!!!!!!!!!!!!!!!!!!!!!!!!!!!!!!!!!!!!!!loss: 0.1736;rec: -0.8068;kl: -23.05;log_p_y_by_z: 6.101;log_p_z_by_y: -48.02;\n",
      "!!!!!!!!!!!!!!!!!!!!!!!!!!!!!!!!!!!!!!!!!!!!!!!!!!loss: 0.1586;rec: -0.7918;kl: -22.56;log_p_y_by_z: 6.107;log_p_z_by_y: -47.96;\n",
      "!!!!!!!!!!!!!!!!!!!!!!!!!!!!!!!!!!!!!!!!!!!!!!!!!!loss: 0.1532;rec: -0.7862;kl: -21.84;log_p_y_by_z: 6.112;log_p_z_by_y: -48.46;\n",
      "!!!!!!!!!!!!!!!!!!!!!!!!!!!!!!!!!!!!!!!!!!!!!!!!!!loss: 0.1358;rec: -0.7688;kl: -21.29;log_p_y_by_z: 6.117;log_p_z_by_y: -48.8;\n",
      "!!!!!!!!!!!!!!!!!!!!!!!!!!!!!!!!!!!!!!!!!!!!!!!!!!loss: 0.1232;rec: -0.756;kl: -20.58;log_p_y_by_z: 6.122;log_p_z_by_y: -48.79;\n",
      "!!!!!!!!!!!!!!!!!!!!!!!!!!!!!!!!!!!!!!!!!!!!!!!!!!loss: 0.1108;rec: -0.7433;kl: -19.75;log_p_y_by_z: 6.128;log_p_z_by_y: -48.9;\n",
      "!!!!!!!!!!!!!!!!!!!!!!!!!!!!!!!!!!!!!!!!!!!!!!!!!!loss: 0.1064;rec: -0.7391;kl: -19.41;log_p_y_by_z: 6.133;log_p_z_by_y: -48.91;\n",
      "!!!!!!!!!!!!!!!!!!!!!!!!!!!!!!!!!!!!!!!!!!!!!!!!!!loss: 0.09872;rec: -0.7313;kl: -18.83;log_p_y_by_z: 6.138;log_p_z_by_y: -49.18;\n",
      "!!!!!!!!!!!!!!!!!!!!!!!!!!!!!!!!!!!!!!!!!!!!!!!!!!loss: 0.08695;rec: -0.7195;kl: -18.28;log_p_y_by_z: 6.143;log_p_z_by_y: -49.51;\n",
      "!!!!!!!!!!!!!!!!!!!!!!!!!!!!!!!!!!!!!!!!!!!!!!!!!!loss: 0.08225;rec: -0.7157;kl: -18.63;log_p_y_by_z: 6.148;log_p_z_by_y: -49.5;\n",
      "!!!!!!!!!!!!!!!!!!!!!!!!!!!!!!!!!!!!!!!!!!!!!!!!!!loss: 0.07103;rec: -0.7042;kl: -17.86;log_p_y_by_z: 6.154;log_p_z_by_y: -49.82;\n",
      "!!!!!!!!!!!!!!!!!!!!!!!!!!!!!!!!!!!!!!!!!!!!!!!!!!loss: 0.06426;rec: -0.6974;kl: -17.31;log_p_y_by_z: 6.159;log_p_z_by_y: -49.93;\n",
      "!!!!!!!!!!!!!!!!!!!!!!!!!!!!!!!!!!!!!!!!!!!!!!!!!!loss: 0.0618;rec: -0.6951;kl: -16.95;log_p_y_by_z: 6.164;log_p_z_by_y: -49.94;\n",
      "!!!!!!!!!!!!!!!!!!!!!!!!!!!!!!!!!!!!!!!!!!!!!!!!!!loss: 0.05578;rec: -0.6891;kl: -16.46;log_p_y_by_z: 6.169;log_p_z_by_y: -49.75;\n",
      "!!!!!!!!!!!!!!!!!!!!!!!!!!!!!!!!!!!!!!!!!!!!!!!!!!loss: 0.04785;rec: -0.6817;kl: -16.44;log_p_y_by_z: 6.174;log_p_z_by_y: -50.28;\n",
      "!!!!!!!!!!!!!!!!!!!!!!!!!!!!!!!!!!!!!!!!!!!!!!!!!!loss: 0.04228;rec: -0.6766;kl: -16.37;log_p_y_by_z: 6.179;log_p_z_by_y: -51.0;\n",
      "!!!!!!!!!!!!!!!!!!!!!!!!!!!!!!!!!!!!!!!!!!!!!!!!!!loss: 0.03287;rec: -0.6673;kl: -15.98;log_p_y_by_z: 6.184;log_p_z_by_y: -50.74;\n",
      "!!!!!!!!!!!!!!!!!!!!!!!!!!!!!!!!!!!!!!!!!!!!!!!!!!loss: 0.02474;rec: -0.6586;kl: -14.94;log_p_y_by_z: 6.189;log_p_z_by_y: -50.49;\n",
      "!!!!!!!!!!!!!!!!!!!!!!!!!!!!!!!!!!!!!!!!!!!!!!!!!!loss: 0.02449;rec: -0.6585;kl: -14.57;log_p_y_by_z: 6.194;log_p_z_by_y: -51.02;\n",
      "!!!!!!!!!!!!!!!!!!!!!!!!!!!!!!!!!!!!!!!!!!!!!!!!!!loss: 0.01716;rec: -0.652;kl: -14.89;log_p_y_by_z:  6.2;log_p_z_by_y: -51.23;\n",
      "!!!!!!!!!!!!!!!!!!!!!!!!!!!!!!!!!!!!!!!!!!!!!!!!!!loss: 0.01429;rec: -0.6492;kl: -14.41;log_p_y_by_z: 6.205;log_p_z_by_y: -51.12;\n",
      "!!!!!!!!!!!!!!!!!!!!!!!!!!!!!!!!!!!!!!!!!!!!!!!!!!loss: 0.008648;rec: -0.6437;kl: -14.1;log_p_y_by_z: 6.21;log_p_z_by_y: -51.88;\n",
      "!!!!!!!!!!!!!!!!!!!!!!!!!!!!!!!!!!!!!!!!!!!!!!!!!!loss: 0.001671;rec: -0.6365;kl: -13.4;log_p_y_by_z: 6.215;log_p_z_by_y: -51.98;\n",
      "!!!!!!!!!!!!!!!!!!!!!!!!!!!!!!!!!!!!!!!!!!!!!!!!!!loss: -0.01168;rec: -0.624;kl: -13.7;log_p_y_by_z: 6.22;log_p_z_by_y: -52.02;\n",
      "!!!!!!!!!!!!!!!!!!!!!!!!!!!!!!!!!!!!!!!!!!!!!!!!!!loss: -0.01428;rec: -0.6207;kl: -12.55;log_p_y_by_z: 6.225;log_p_z_by_y: -52.31;\n",
      "!!!!!!!!!!!!!!!!!!!!!!!!!!!!!!!!!!!!!!!!!!!!!!!!!!loss: -0.01789;rec: -0.6176;kl: -12.47;log_p_y_by_z: 6.23;log_p_z_by_y: -52.46;\n",
      "!!!!!!!!!!!!!!!!!!!!!!!!!!!!!!!!!!!!!!!!!!!!!!!!!!loss: -0.02196;rec: -0.6141;kl: -12.6;log_p_y_by_z: 6.235;log_p_z_by_y: -52.41;\n",
      "!!!!!!!!!!!!!!!!!!!!!!!!!!!!!!!!!!!!!!!!!!!!!!!!!!loss: -0.02951;rec: -0.607;kl: -12.53;log_p_y_by_z: 6.24;log_p_z_by_y: -53.03;\n",
      "!!!!!!!!!!!!!!!!!!!!!!!!!!!!!!!!!!!!!!!!!!!!!!!!!!loss: -0.02732;rec: -0.6086;kl: -11.36;log_p_y_by_z: 6.245;log_p_z_by_y: -52.94;\n",
      "!!!!!!!!!!!!!!!!!!!!!!!!!!!!!!!!!!!!!!!!!!!!!!!!!!loss: -0.03461;rec: -0.6018;kl: -11.43;log_p_y_by_z: 6.25;log_p_z_by_y: -53.46;\n",
      "!!!!!!!!!!!!!!!!!!!!!!!!!!!!!!!!!!!!!!!!!!!!!!!!!!loss: -0.04276;rec: -0.5944;kl: -11.69;log_p_y_by_z: 6.255;log_p_z_by_y: -53.58;\n",
      "!!!!!!!!!!!!!!!!!!!!!!!!!!!!!!!!!!!!!!!!!!!!!!!!!!loss: -0.03817;rec: -0.599;kl: -11.1;log_p_y_by_z: 6.26;log_p_z_by_y: -53.98;\n",
      "!!!!!!!!!!!!!!!!!!!!!!!!!!!!!!!!!!!!!!!!!!!!!!!!!!loss: -0.05286;rec: -0.585;kl: -11.3;log_p_y_by_z: 6.265;log_p_z_by_y: -54.02;\n",
      "!!!!!!!!!!!!!!!!!!!!!!!!!!!!!!!!!!!!!!!!!!!!!!!!!!loss: -0.05223;rec: -0.5852;kl: -10.39;log_p_y_by_z: 6.27;log_p_z_by_y: -53.94;\n",
      "!!!!!!!!!!!!!!!!!!!!!!!!!!!!!!!!!!!!!!!!!!!!!!!!!!loss: -0.05989;rec: -0.5778;kl: -10.11;log_p_y_by_z: 6.275;log_p_z_by_y: -54.04;\n",
      "!!!!!!!!!!!!!!!!!!!!!!!!!!!!!!!!!!!!!!!!!!!!!!!!!!loss: -0.07061;rec: -0.5672;kl: -9.747;log_p_y_by_z: 6.28;log_p_z_by_y: -54.7;\n",
      "!!!!!!!!!!!!!!!!!!!!!!!!!!!!!!!!!!!!!!!!!!!!!!!!!!loss: -0.06669;rec: -0.5712;kl: -9.354;log_p_y_by_z: 6.285;log_p_z_by_y: -54.43;\n",
      "!!!!!!!!!!!!!!!!!!!!!!!!!!!!!!!!!!!!!!!!!!!!!!!!!!loss: -0.07099;rec: -0.5679;kl: -9.84;log_p_y_by_z: 6.29;log_p_z_by_y: -55.27;\n",
      "!!!!!!!!!!!!!!!!!!!!!!!!!!!!!!!!!!!!!!!!!!!!!!!!!!loss: -0.07209;rec: -0.5665;kl: -9.016;log_p_y_by_z: 6.295;log_p_z_by_y: -54.99;\n",
      "!!!!!!!!!!!!!!!!!!!!!!!!!!!!!!!!!!!!!!!!!!!!!!!!!!loss: -0.07807;rec: -0.5605;kl: -8.505;log_p_y_by_z: 6.301;log_p_z_by_y: -54.98;\n",
      "!!!!!!!!!!!!!!!!!!!!!!!!!!!!!!!!!!!!!!!!!!!!!!!!!!loss: -0.0861;rec: -0.5532;kl: -8.781;log_p_y_by_z: 6.306;log_p_z_by_y: -55.24;\n",
      "!!!!!!!!!!!!!!!!!!!!!!!!!!!!!!!!!!!!!!!!!!!!!!!!!!loss: -0.0922;rec: -0.5478;kl: -8.941;log_p_y_by_z: 6.311;log_p_z_by_y: -55.56;\n",
      "!!!!!!!!!!!!!!!!!!!!!!!!!!!!!!!!!!!!!!!!!!!!!!!!!!loss: -0.08248;rec: -0.5569;kl: -7.786;log_p_y_by_z: 6.316;log_p_z_by_y: -55.79;\n",
      "!!!!!!!!!!!!!!!!!!!!!!!!!!!!!!!!!!!!!!!!!!!!!!!!!!loss: -0.09185;rec: -0.5479;kl: -7.704;log_p_y_by_z: 6.321;log_p_z_by_y: -55.77;\n",
      "!!!!!!!!!!!!!!!!!!!!!!!!!!!!!!!!!!!!!!!!!!!!!!!!!!loss: -0.09964;rec: -0.5403;kl: -7.399;log_p_y_by_z: 6.326;log_p_z_by_y: -56.15;\n",
      "!!!!!!!!!!!!!!!!!!!!!!!!!!!!!!!!!!!!!!!!!!!!!!!!!!loss: -0.09913;rec: -0.5417;kl: -7.78;log_p_y_by_z: 6.331;log_p_z_by_y: -56.88;\n",
      "!!!!!!!!!!!!!!!!!!!!!!!!!!!!!!!!!!!!!!!!!!!!!!!!!!loss: -0.101;rec: -0.5392;kl: -6.636;log_p_y_by_z: 6.336;log_p_z_by_y: -56.5;\n",
      "!!!!!!!!!!!!!!!!!!!!!!!!!!!!!!!!!!!!!!!!!!!!!!!!!!loss: -0.1034;rec: -0.5376;kl: -6.875;log_p_y_by_z: 6.341;log_p_z_by_y: -56.57;\n",
      "!!!!!!!!!!!!!!!!!!!!!!!!!!!!!!!!!!!!!!!!!!!!!!!!!!loss: -0.1057;rec: -0.5358;kl: -6.916;log_p_y_by_z: 6.346;log_p_z_by_y: -56.95;\n",
      "!!!!!!!!!!!!!!!!!!!!!!!!!!!!!!!!!!!!!!!!!!!!!!!!!!loss: -0.119;rec: -0.523;kl: -6.907;log_p_y_by_z: 6.351;log_p_z_by_y: -56.86;\n",
      "!!!!!!!!!!!!!!!!!!!!!!!!!!!!!!!!!!!!!!!!!!!!!!!!!!loss: -0.1201;rec: -0.5232;kl: -7.721;log_p_y_by_z: 6.356;log_p_z_by_y: -57.44;\n",
      "!!!!!!!!!!!!!!!!!!!!!!!!!!!!!!!!!!!!!!!!!!!!!!!!!!loss: -0.1215;rec: -0.5206;kl: -5.966;log_p_y_by_z: 6.361;log_p_z_by_y: -57.4;\n",
      "!!!!!!!!!!!!!!!!!!!!!!!!!!!!!!!!!!!!!!!!!!!!!!!!!!loss: -0.1186;rec: -0.5248;kl: -6.795;log_p_y_by_z: 6.366;log_p_z_by_y: -57.83;\n",
      "!!!!!!!!!!!!!!!!!!!!!!!!!!!!!!!!!!!!!!!!!!!!!!!!!!loss: -0.1255;rec: -0.5179;kl: -6.327;log_p_y_by_z: 6.371;log_p_z_by_y: -58.03;\n",
      "!!!!!!!!!!!!!!!!!!!!!!!!!!!!!!!!!!!!!!!!!!!!!!!!!!loss: -0.1319;rec: -0.5122;kl: -6.501;log_p_y_by_z: 6.376;log_p_z_by_y: -58.03;\n",
      "!!!!!!!!!!!!!!!!!!!!!!!!!!!!!!!!!!!!!"
     ]
    },
    {
     "ename": "KeyboardInterrupt",
     "evalue": "",
     "output_type": "error",
     "traceback": [
      "\u001b[1;31m---------------------------------------------------------------------------\u001b[0m",
      "\u001b[1;31mKeyboardInterrupt\u001b[0m                         Traceback (most recent call last)",
      "\u001b[1;32m<ipython-input-7-ebc0f38c0761>\u001b[0m in \u001b[0;36m<module>\u001b[1;34m\u001b[0m\n\u001b[1;32m----> 1\u001b[1;33m \u001b[0mmodel\u001b[0m\u001b[1;33m.\u001b[0m\u001b[0mtrain_as_vaelp\u001b[0m\u001b[1;33m(\u001b[0m\u001b[0mtrain_loader\u001b[0m\u001b[1;33m,\u001b[0m \u001b[0mlr\u001b[0m\u001b[1;33m=\u001b[0m\u001b[1;36m1e-4\u001b[0m\u001b[1;33m,\u001b[0m\u001b[0mnum_epochs\u001b[0m\u001b[1;33m=\u001b[0m\u001b[1;36m200\u001b[0m\u001b[1;33m)\u001b[0m\u001b[1;33m\u001b[0m\u001b[1;33m\u001b[0m\u001b[0m\n\u001b[0m",
      "\u001b[1;32m~\\Miniconda3\\envs\\leishnn\\lib\\site-packages\\gentrl-0.1-py3.8.egg\\gentrl\\gentrl.py\u001b[0m in \u001b[0;36mtrain_as_vaelp\u001b[1;34m(self, train_loader, num_epochs, verbose_step, lr)\u001b[0m\n\u001b[0;32m    176\u001b[0m                 \u001b[0moptimizer\u001b[0m\u001b[1;33m.\u001b[0m\u001b[0mzero_grad\u001b[0m\u001b[1;33m(\u001b[0m\u001b[1;33m)\u001b[0m\u001b[1;33m\u001b[0m\u001b[1;33m\u001b[0m\u001b[0m\n\u001b[0;32m    177\u001b[0m                 \u001b[0mloss\u001b[0m \u001b[1;33m=\u001b[0m \u001b[1;33m-\u001b[0m\u001b[0melbo\u001b[0m\u001b[1;33m\u001b[0m\u001b[1;33m\u001b[0m\u001b[0m\n\u001b[1;32m--> 178\u001b[1;33m                 \u001b[0mloss\u001b[0m\u001b[1;33m.\u001b[0m\u001b[0mbackward\u001b[0m\u001b[1;33m(\u001b[0m\u001b[1;33m)\u001b[0m\u001b[1;33m\u001b[0m\u001b[1;33m\u001b[0m\u001b[0m\n\u001b[0m\u001b[0;32m    179\u001b[0m                 \u001b[0moptimizer\u001b[0m\u001b[1;33m.\u001b[0m\u001b[0mstep\u001b[0m\u001b[1;33m(\u001b[0m\u001b[1;33m)\u001b[0m\u001b[1;33m\u001b[0m\u001b[1;33m\u001b[0m\u001b[0m\n\u001b[0;32m    180\u001b[0m \u001b[1;33m\u001b[0m\u001b[0m\n",
      "\u001b[1;32m~\\Miniconda3\\envs\\leishnn\\lib\\site-packages\\torch\\tensor.py\u001b[0m in \u001b[0;36mbackward\u001b[1;34m(self, gradient, retain_graph, create_graph)\u001b[0m\n\u001b[0;32m    219\u001b[0m                 \u001b[0mretain_graph\u001b[0m\u001b[1;33m=\u001b[0m\u001b[0mretain_graph\u001b[0m\u001b[1;33m,\u001b[0m\u001b[1;33m\u001b[0m\u001b[1;33m\u001b[0m\u001b[0m\n\u001b[0;32m    220\u001b[0m                 create_graph=create_graph)\n\u001b[1;32m--> 221\u001b[1;33m         \u001b[0mtorch\u001b[0m\u001b[1;33m.\u001b[0m\u001b[0mautograd\u001b[0m\u001b[1;33m.\u001b[0m\u001b[0mbackward\u001b[0m\u001b[1;33m(\u001b[0m\u001b[0mself\u001b[0m\u001b[1;33m,\u001b[0m \u001b[0mgradient\u001b[0m\u001b[1;33m,\u001b[0m \u001b[0mretain_graph\u001b[0m\u001b[1;33m,\u001b[0m \u001b[0mcreate_graph\u001b[0m\u001b[1;33m)\u001b[0m\u001b[1;33m\u001b[0m\u001b[1;33m\u001b[0m\u001b[0m\n\u001b[0m\u001b[0;32m    222\u001b[0m \u001b[1;33m\u001b[0m\u001b[0m\n\u001b[0;32m    223\u001b[0m     \u001b[1;32mdef\u001b[0m \u001b[0mregister_hook\u001b[0m\u001b[1;33m(\u001b[0m\u001b[0mself\u001b[0m\u001b[1;33m,\u001b[0m \u001b[0mhook\u001b[0m\u001b[1;33m)\u001b[0m\u001b[1;33m:\u001b[0m\u001b[1;33m\u001b[0m\u001b[1;33m\u001b[0m\u001b[0m\n",
      "\u001b[1;32m~\\Miniconda3\\envs\\leishnn\\lib\\site-packages\\torch\\autograd\\__init__.py\u001b[0m in \u001b[0;36mbackward\u001b[1;34m(tensors, grad_tensors, retain_graph, create_graph, grad_variables)\u001b[0m\n\u001b[0;32m    128\u001b[0m         \u001b[0mretain_graph\u001b[0m \u001b[1;33m=\u001b[0m \u001b[0mcreate_graph\u001b[0m\u001b[1;33m\u001b[0m\u001b[1;33m\u001b[0m\u001b[0m\n\u001b[0;32m    129\u001b[0m \u001b[1;33m\u001b[0m\u001b[0m\n\u001b[1;32m--> 130\u001b[1;33m     Variable._execution_engine.run_backward(\n\u001b[0m\u001b[0;32m    131\u001b[0m         \u001b[0mtensors\u001b[0m\u001b[1;33m,\u001b[0m \u001b[0mgrad_tensors_\u001b[0m\u001b[1;33m,\u001b[0m \u001b[0mretain_graph\u001b[0m\u001b[1;33m,\u001b[0m \u001b[0mcreate_graph\u001b[0m\u001b[1;33m,\u001b[0m\u001b[1;33m\u001b[0m\u001b[1;33m\u001b[0m\u001b[0m\n\u001b[0;32m    132\u001b[0m         allow_unreachable=True)  # allow_unreachable flag\n",
      "\u001b[1;31mKeyboardInterrupt\u001b[0m: "
     ]
    }
   ],
   "source": [
    "model.train_as_vaelp(train_loader, lr=1e-4,num_epochs=200)"
   ]
  },
  {
   "cell_type": "code",
   "execution_count": 26,
   "metadata": {},
   "outputs": [],
   "source": [
    "model.save('./ligase_gentrl')"
   ]
  },
  {
   "cell_type": "code",
   "execution_count": 8,
   "metadata": {},
   "outputs": [
    {
     "ename": "ModuleAttributeError",
     "evalue": "'GENTRL' object has no attribute 'info'",
     "output_type": "error",
     "traceback": [
      "\u001b[1;31m---------------------------------------------------------------------------\u001b[0m",
      "\u001b[1;31mModuleAttributeError\u001b[0m                      Traceback (most recent call last)",
      "\u001b[1;32m<ipython-input-8-d90b8b261fe8>\u001b[0m in \u001b[0;36m<module>\u001b[1;34m\u001b[0m\n\u001b[1;32m----> 1\u001b[1;33m \u001b[0mmodel\u001b[0m\u001b[1;33m.\u001b[0m\u001b[0minfo\u001b[0m\u001b[1;33m(\u001b[0m\u001b[1;33m)\u001b[0m\u001b[1;33m\u001b[0m\u001b[1;33m\u001b[0m\u001b[0m\n\u001b[0m",
      "\u001b[1;32m~\\Miniconda3\\envs\\leishnn\\lib\\site-packages\\torch\\nn\\modules\\module.py\u001b[0m in \u001b[0;36m__getattr__\u001b[1;34m(self, name)\u001b[0m\n\u001b[0;32m    776\u001b[0m             \u001b[1;32mif\u001b[0m \u001b[0mname\u001b[0m \u001b[1;32min\u001b[0m \u001b[0mmodules\u001b[0m\u001b[1;33m:\u001b[0m\u001b[1;33m\u001b[0m\u001b[1;33m\u001b[0m\u001b[0m\n\u001b[0;32m    777\u001b[0m                 \u001b[1;32mreturn\u001b[0m \u001b[0mmodules\u001b[0m\u001b[1;33m[\u001b[0m\u001b[0mname\u001b[0m\u001b[1;33m]\u001b[0m\u001b[1;33m\u001b[0m\u001b[1;33m\u001b[0m\u001b[0m\n\u001b[1;32m--> 778\u001b[1;33m         raise ModuleAttributeError(\"'{}' object has no attribute '{}'\".format(\n\u001b[0m\u001b[0;32m    779\u001b[0m             type(self).__name__, name))\n\u001b[0;32m    780\u001b[0m \u001b[1;33m\u001b[0m\u001b[0m\n",
      "\u001b[1;31mModuleAttributeError\u001b[0m: 'GENTRL' object has no attribute 'info'"
     ]
    }
   ],
   "source": [
    "model.info()"
   ]
  }
 ],
 "metadata": {
  "kernelspec": {
   "display_name": "Python 3",
   "language": "python",
   "name": "python3"
  },
  "language_info": {
   "codemirror_mode": {
    "name": "ipython",
    "version": 3
   },
   "file_extension": ".py",
   "mimetype": "text/x-python",
   "name": "python",
   "nbconvert_exporter": "python",
   "pygments_lexer": "ipython3",
   "version": "3.8.6"
  }
 },
 "nbformat": 4,
 "nbformat_minor": 4
}
